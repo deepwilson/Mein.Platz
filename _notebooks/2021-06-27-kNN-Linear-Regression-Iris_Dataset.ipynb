{
 "metadata": {
  "language_info": {
   "codemirror_mode": {
    "name": "ipython",
    "version": 3
   },
   "file_extension": ".py",
   "mimetype": "text/x-python",
   "name": "python",
   "nbconvert_exporter": "python",
   "pygments_lexer": "ipython3",
   "version": 3
  },
  "orig_nbformat": 4
 },
 "nbformat": 4,
 "nbformat_minor": 2,
 "cells": [
  {
   "source": [
    "# kNN & Linear Regression From Scratch: Iris Dataset\n",
    "> A somewhat comprehensive record of the steps I took to set up this blog; upgrades I made to the original fastpages setup; issues I faced and how I resolved them (or not); and references to resources I found useful.\n",
    "\n",
    "- toc: true\n",
    "- author: Oluwaleke Umar Yusuf\n",
    "- badges: true\n",
    "- comments: true\n",
    "- image: images/ipynb/iris_dataset.png\n",
    "- hide: false\n",
    "- search_exclude: false\n",
    "- categories: [notebook, fastpages]\n",
    "- tags: [fastpages examples]"
   ],
   "cell_type": "markdown",
   "metadata": {}
  }
 ]
}