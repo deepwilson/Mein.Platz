{
 "cells": [
  {
   "cell_type": "markdown",
   "metadata": {},
   "source": [
    "# Setting Up This Blog\n",
    "> A somewhat comprehensive record of the steps I took to set up this blog; upgrades I made to the original fastpages setup; issues I faced and how I resolved them (or not); and references to resources I found useful.\n",
    "\n",
    "- toc: true\n",
    "- author: Oluwaleke Umar Yusuf\n",
    "- badges: true\n",
    "- comments: true\n",
    "- image: images/ipynb/blog_creation.png\n",
    "- hide: false\n",
    "- search_exclude: false\n",
    "- categories: [notebook, fastpages]\n",
    "- tags: [fastpages examples]"
   ]
  },
  {
   "cell_type": "markdown",
   "metadata": {},
   "source": [
    "## Setting Up This Blog Using `fastpages`"
   ]
  },
  {
   "cell_type": "markdown",
   "metadata": {},
   "source": [
    "> Note: You can skip over the **Background** section. I went off for a while here. Jump to **[Introducing fastpages](#Introducing-fastpages)**"
   ]
  },
  {
   "source": [
    "---"
   ],
   "cell_type": "markdown",
   "metadata": {}
  },
  {
   "cell_type": "markdown",
   "metadata": {},
   "source": [
    "## Background"
   ]
  },
  {
   "cell_type": "markdown",
   "metadata": {},
   "source": [
    "Over the course of this year, as I got deeper into Machine Learning and Computer Vision, I started to come across posts and comments advising folks new to programming in general to create a blog detailing their experiences. \n",
    "\n",
    "Most posts/people summed up the benefits of creating such a blog along the lines of: \n",
    "\n",
    "- You are presently in the best position to help along another newcomer who is a few steps behind you. This is because the issues you came across and the mistakes you made are still fresh in your mind and the resources you consulted to overcome/correct those issues/mistakes are still fresh in you mind and close to hand.\n",
    "- It is generally agreed that writing about a topic helps deepen your understanding of the topic and force you to address the gaps in your knowledge.\n",
    "- You write for totally selfish reasons. You write for posterity. You write for your future self.\n",
    "\n",
    "Given the schools of thought I was exposed to while learning programming and my personal way of doing things, my code is always littered with detailed and sometimes superfluous comments. Thus, I initially assumed that all I needed to do was put all my comments for a project together, edit and format them into a coherent document, and voila!, blog post.\n",
    "\n",
    "Unfortunately, the various resources I found online for creating simple blogs were overly involved and required knowledge of html and other web-related stuff of which I knew nothing. Furthermore, I wasn't interested in going off on a tangent when my focus is `Machine Learning` and `Computer Vision`. I also came across [GitHub Pages](https://pages.github.com/) at this point but it was more of the same.\n",
    "\n",
    "> **So, I gave up on creating a blog and stuck to writing detailed comments in my code.**\n",
    "\n",
    "A couple months after, I took [fast.ai's](https://www.fast.ai/) [Practical Deep Learning for Coders](https://course.fast.ai/) online course. At some point in Lesson 3, when [Jeremy Howard](https://twitter.com/jeremyphoward) started going on about writing and blogs, in my mind I went \"Here we go again.\" Then he introduced [fastpages](https://github.com/fastai/fastpages) and it was all I ever needed.\n",
    "\n",
    "> youtube: https://www.youtube.com/embed/5L3Ao5KuCC4?start=3441\n",
    "\n",
    "> **Create a blog using jupyter notenooks and markdown files? Take my money!!!**"
   ]
  },
  {
   "source": [
    "---"
   ],
   "cell_type": "markdown",
   "metadata": {}
  },
  {
   "cell_type": "markdown",
   "metadata": {},
   "source": [
    "## Introducing `fastpages`"
   ]
  },
  {
   "cell_type": "markdown",
   "metadata": {},
   "source": [
    "`fastpages` is an easy to use blogging platform, with support for Jupyter notebooks, Word documents, and Markdown.\n",
    "\n",
    "![](https://raw.githubusercontent.com/Outsiders17711/Mein.Platz/main/images/ipynb/fastpages_diagram.png)\n",
    "\n",
    "`fastpages` uses [GitHub Actions](https://github.com/features/actions) to simplify the process of creating [Jekyll blog posts](https://jekyllrb.com/) on [GitHub Pages](https://pages.github.com/) from a variety of input formats.\n",
    "\n",
    "\n",
    "See the [fastpages](https://github.com/fastai/fastpages) GitHub repository for a more detailed list of features.\n",
    "\n",
    "> Note: **[See the demo site.](https://fastpages.fast.ai/)**"
   ]
  },
  {
   "cell_type": "markdown",
   "metadata": {},
   "source": [
    "---"
   ]
  },
  {
   "cell_type": "markdown",
   "metadata": {},
   "source": [
    "## Initial Setup"
   ]
  },
  {
   "cell_type": "markdown",
   "metadata": {},
   "source": [
    "The initial setup is totally straightforeward and effortless. The [setup instructions](https://github.com/fastai/fastpages#setup-instructions) are detailed and there is even a [walkthrough on YouTube](https://youtu.be/L0boq3zqazI) if that wasn't enough.\n",
    "\n",
    "> youtube: https://www.youtube.com/embed/L0boq3zqazI"
   ]
  },
  {
   "source": [
    "> It wasn't enough for me. There was part of the setup where I needed to merge a pull request but I somehow didn't see that line in the instructions.\n",
    "\n",
    "With the setup instructions and YouTube walkthrough, you can't go wrong. If you, go through either of them again, slowly. You most definitely missed something.\n",
    "\n",
    "If at any point you come across build issues, refer to the fastpages [Troubleshooting Guide](https://github.com/fastai/fastpages/blob/master/_fastpages_docs/TROUBLESHOOTING.md)."
   ],
   "cell_type": "markdown",
   "metadata": {}
  },
  {
   "cell_type": "markdown",
   "metadata": {},
   "source": [
    "---"
   ]
  },
  {
   "cell_type": "markdown",
   "metadata": {},
   "source": [
    "## Customizing Your Blog"
   ]
  },
  {
   "cell_type": "markdown",
   "metadata": {},
   "source": [
    "Once you're done with the intial setup, you'll get a generic blog that contains a few placeholders from `fastbook`. There are a few simple customizations you can make to put your personal stamp on your blog. \n",
    "\n",
    "These customizations can be implemented across `four files` and `one folder` in the  newly forked blog repository. I will list the files and the personalizations that can be done in each."
   ]
  },
  {
   "cell_type": "markdown",
   "metadata": {},
   "source": [
    "#### `index.html`\n",
    "\n",
    "This file is responsible for the the content of the blog's homepage -- between the `top bar` and the `Posts` section. The picture below shows the code and the result in the homepage.\n",
    "\n",
    "![](https://raw.githubusercontent.com/Outsiders17711/Mein.Platz/main/images/ipynb/index_html.png)\n",
    "\n",
    "Two sets of changes can be made in this file:\n",
    "\n",
    "1. *Line 4*: The blog logo by sepecified by a file placed in the `images` folder of the base directory. This is the image preview automatically shown with your blog URL on social media sites. You can either:\n",
    "\n",
    "    - replace the fastpages logo with one of your own choosing, leaving `Line 4` as it is; or\n",
    "    - add you own file to the `images` folder and edit the filename in `Line 4`.\n",
    "\n",
    "    <br/>\n",
    "    \n",
    "    > Important: The image for the blog logo MUST be in the **images** folder (or subfolders) for your blog to render correctly.\n",
    "\n",
    "2. *Lines 6-14*: Everything here can be removed and replaced with content of your choosing. From my experience, the content can be in html format or markdown format or a mix of both formats."
   ]
  },
  {
   "source": [],
   "cell_type": "markdown",
   "metadata": {}
  },
  {
   "cell_type": "markdown",
   "metadata": {},
   "source": [
    "#### `README.md`\n",
    "\n",
    "This file is responsible for the content of the blog's github repository page -- after the folders and files have been listed.\n",
    "\n",
    "![](https://raw.githubusercontent.com/Outsiders17711/Mein.Platz/main/images/ipynb/README_md.png)\n",
    "\n",
    "Two sets of changes can be made to this file:\n",
    "\n",
    "1. *Line 6*: You can totally remove that line, thus removing the `View Demo Site` badge. On the other hand, you might want to change it to one of your choosing and make it point to another link. \n",
    "\n",
    "    This is quite simple. The [shields.io](https://shields.io/) developer site contains example code on how to create your own custom badges. If you want to use a shield logo other than the ones available, you need to convert your .png to base64 code, you can't just specify a path to the .png file. [b64.io](https://b64.io/) is a free resource for converting images to base64 format. The logo is then specified in the badge code using the snippet below.\n",
    "    \n",
    "    ```text\n",
    "    ?logo=data:image/png;base64,…\n",
    "    ```\n",
    "    \n",
    "    You can consult the answers provided to this [stackoverflow question](https://stackoverflow.com/questions/38985050/how-do-i-use-the-logo-option-in-shields-io-badges) if you have any difficulty creating you custom badge. You can create any number of badges this way, all with different attributes.\n",
    "    \n",
    "1. *Lines 7-554*: Everything here can be removed and replaced with content of your choosing. The content has to be in markdown format."
   ]
  },
  {
   "cell_type": "markdown",
   "metadata": {},
   "source": [
    "#### `_config.yml`\n",
    "\n",
    "This is the main configuration file for the blog. This file should be edited carefully as any mistakes will cause errors when GutHub tries to build your blog. The main fastpages [README.md](https://github.com/fastai/fastpages#customizing-blog-posts-with-front-matter) provides detailed information on what parts of the blog the parameters in this file control.\n",
    "\n",
    "However, since we're talking about simple customizations, here are some:\n",
    "\n",
    "1. *Line 9*: This controls the title of the blog found at the top of the homepage. It is freely customizable.\n",
    "1. *Line 10*: This controls the blog description at the very bottom of the homepage. It is freely customizable.\n",
    "1. *Lines 39-43*: Here you can add links you your social media accounts and other professional accounts. This [link](https://github.com/jekyll/minima#social-networks) provides the list if supported social networks and their keys.\n",
    "1. *Line 52*: This controls the display of image previews on the home page, for posts that have them. It is set to `false` by default. You should try it out, it's a good look."
   ]
  },
  {
   "cell_type": "markdown",
   "metadata": {},
   "source": [
    "#### `images`\n",
    "\n",
    "This folder contains images necessary for customizing the look of the blog's URL. There are a couple of changes you can make here.\n",
    "\n",
    "- *logo.png*: As stated earlier, this specfies the image preview automatically shown with your URL on social media sites. This is freely customizable.\n",
    "- *favicon.ico*: This controls the page icon shown on the browser tab when the site is opened in browser. There are lots of free resources for [downloading .ico files](https://icon-icons.com/) or [converting your .png to .ico](https://convertico.com/).\n",
    "\n",
    "<br/>\n",
    "\n",
    "> Important: From my experience, the file name of the page icon MUST be **favicon.ico**.\n",
    "\n",
    "<br/>"
   ]
  },
  {
   "cell_type": "markdown",
   "metadata": {},
   "source": [
    "#### `pages/about.md`\n",
    "\n",
    "This file is responsible for the the content of the blog's `About Me` page -- found on right-side of the `top bar`. The picture below shows the code and the result on the blog.\n",
    "\n",
    "![](https://raw.githubusercontent.com/Outsiders17711/Mein.Platz/main/images/ipynb/_pages_about_md.png)\n",
    "\n",
    "Everything from *Lines 7-12* can be removed and replaced with content of your choosing. The content has to be in markdown format."
   ]
  },
  {
   "source": [
    "> Note: That's about it for simple customizations' you can make your blog at first go."
   ],
   "cell_type": "markdown",
   "metadata": {}
  },
  {
   "source": [
    "---"
   ],
   "cell_type": "markdown",
   "metadata": {}
  },
  {
   "cell_type": "markdown",
   "metadata": {},
   "source": [
    "## Further Customizations"
   ]
  },
  {
   "cell_type": "markdown",
   "metadata": {},
   "source": [
    "Here are some other advanced customizations you can carry out. They are advanced in the sense that you need to go through the documentation of the various resources used by fastpages in order to figure out to to modify them. \n",
    "\n",
    "At this point, you'll be diverging greatly from the default `fastpages` setup for your blog, thus you'll need to modify/add multiple files to successfully make a modification."
   ]
  },
  {
   "source": [
    "### **Switching To Dark Mode**: \n",
    "\n",
    "[Prudhvi Rampey](https://prudhvirampey.com/blog/colours/jekyll/css/fastpages/2020/10/30/hello-dark-mode.html) provides a simple guide to being the darkmode experience to `fastpages`. All you have to do is add one file (available [here](https://gist.github.com/prampey/aac8f8436827ea09f53a67873142706c)) to the `/_sass/minima/` folder and  add this import line in `custom-styles.scss` in the same folder.\n",
    "\n",
    "```scss\n",
    "/*-----------------------------------*/\n",
    "/*----- ADD YOUR STYLES BELOW -------*/\n",
    "\n",
    "@import \"minima/dark-mode\";\n",
    "```\n",
    "    \n",
    "[Prashanth Rao's article](https://prrao87.github.io/blog/blogging-for-data-scientists/#appendix-examples-on-customizing-fastpages) which talks generally about the advantages of using ` fastpages` also contains a few tips on visual customizations in the appendix section."
   ],
   "cell_type": "markdown",
   "metadata": {}
  },
  {
   "source": [
    "### **Making Your Blog Appear On Google Search**\n",
    "\n",
    "[Victor2Code](https://github.com/Victor2Code) has a [post](https://victor2code.github.io/blog/2019/07/04/jekyll-github-pages-appear-on-Google.html) on how to make your site and pages appear on Google search result. It only takes two steps.\n",
    "\n",
    "> **NOTE**: Victor notes in his [post](https://victor2code.github.io/blog/2019/07/04/jekyll-github-pages-appear-on-Google.html) that amongst the ownership verification options provided by Google, he was unable to verify using the [fist option](https://support.google.com/webmasters/answer/9008080#html_verification&zippy=%2Chtml-file-upload) didn't woer for him.\n",
    ">\n",
    "> However, it worked for me in flawlessly. So, I will advise that you still try that option first (as it is by far the easiest)."
   ],
   "cell_type": "markdown",
   "metadata": {}
  },
  {
   "source": [
    "### **Adding A Copy Button To Markdown Code Blocks**\n",
    "\n",
    "[Steve](https://www.github.com/SPDUK) provides a [guide](https://spdevuk.com/how-to-create-code-copy-button/) on how to achieve this. [Aleksandr Hovhannisyan](https://www.aleksandrhovhannisyan.com/) also has a [guide](https://www.aleksandrhovhannisyan.com/blog/how-to-add-a-copy-to-clipboard-button-to-your-jekyll-blog/) which follows a slightly different implementation to acheive the same goal.\n"
   ],
   "cell_type": "markdown",
   "metadata": {}
  },
  {
   "source": [
    "### **Adding Flash Alerts To Your Posts**\n",
    "\n",
    "<div class=\"flash flash-success f4\">\n",
    "  <svg class=\"octicon octicon-shield-check v-align-bottom\" xmlns=\"http://www.w3.org/2000/svg\" viewBox=\"0 0 24 24\" width=\"24\" height=\"24\">  <path fill-rule=\"evenodd\" clip-rule=\"evenodd\" d=\"M11.9275 3.55567C11.9748 3.54134 12.0252 3.54134 12.0725 3.55567L19.3225 5.75264C19.4292 5.78497 19.5 5.88157 19.5 5.99039V11C19.5 13.4031 18.7773 15.3203 17.5164 16.847C16.246 18.3853 14.3925 19.5706 12.0703 20.4278C12.0253 20.4444 11.9746 20.4444 11.9297 20.4278C9.60747 19.5706 7.75398 18.3853 6.48358 16.847C5.2227 15.3203 4.5 13.4031 4.5 11L4.5 5.9904C4.5 5.88158 4.57082 5.78496 4.6775 5.75264L11.9275 3.55567ZM12.5075 2.12013C12.1766 2.01985 11.8234 2.01985 11.4925 2.12013L4.24249 4.3171C3.50587 4.54032 3 5.21807 3 5.9904L3 11C3 13.7306 3.83104 15.9908 5.32701 17.8022C6.81347 19.6021 8.91996 20.9157 11.4102 21.835C11.7904 21.9753 12.2095 21.9753 12.5897 21.835C15.08 20.9157 17.1865 19.6021 18.673 17.8022C20.169 15.9908 21 13.7306 21 11V5.99039C21 5.21804 20.4941 4.54031 19.7575 4.3171L12.5075 2.12013ZM16.2803 9.78033C16.5732 9.48744 16.5732 9.01256 16.2803 8.71967C15.9874 8.42678 15.5126 8.42678 15.2197 8.71967L11 12.9393L9.28033 11.2197C8.98744 10.9268 8.51256 10.9268 8.21967 11.2197C7.92678 11.5126 7.92678 11.9874 8.21967 12.2803L10.4697 14.5303C10.7626 14.8232 11.2374 14.8232 11.5303 14.5303L16.2803 9.78033Z\"></path></svg>\n",
    "  Flash alerts like this can be used to highlight some information. A comprehensive guide on styling flash alerts can be found <a href=\"https://primer.style/css/components/alerts\" target=\"_blank\">here</a>. \n",
    "</div>\n",
    "<br>"
   ],
   "cell_type": "markdown",
   "metadata": {}
  },
  {
   "source": [
    "### **Dynamically Run Code Written On Jupyter Notebooks**\n",
    "\n",
    "If you have a post that contains charts or tables with data that changes over time, the default fastpages setup means you will have to manually re-run the source notebook and rebuild the site. [Niegil Francis](https://github.com/Niegil-Francis) provides a [guide](https://niegil-francis.github.io/Personal_Blog/2020/11/14/A-starter-pack-on-dynamic-blogging.html) on setting up your blog to automatically runs and updates itself so that your page is always up-to-date with the current data."
   ],
   "cell_type": "markdown",
   "metadata": {}
  },
  {
   "source": [
    "### **Creating Permalinks**\n",
    "\n",
    "This [Jekyll documentation](https://jekyllrb.com/docs/permalinks/) provides information on how to set up permalinks for you blog. However, I found that this [post](https://docs.w3cub.com/jekyll/permalinks/) did a better job of explaining how Jekyll permalinks work and how to customize them to fit your blog. [This](https://learn.cloudcannon.com/jekyll/permalinks/) is also useful."
   ],
   "cell_type": "markdown",
   "metadata": {}
  },
  {
   "source": [
    "### **Creating Distinctive `README.md` and `about.md`**\n",
    "\n",
    "The `README.md` file in your blog repository's root directory  and the `about.md` file in the `_pages` folder are markdown files you can use to provide some information about your blog and yourself. The syntax for both files are the same (since they are both markdown files). \n",
    "\n",
    "Now you can get really inventive with the styling and content of these files, as some folks have. [Matias Singers\n",
    "](https://github.com/matiassingers) has created a '[curated list of awesome READMEs](https://github.com/matiassingers/awesome-readme)'. [Abhishek Naidu](https://github.com/abhisheknaiidu) went some steps further by creating a more comprehensive '[curated list of awesome Github Profile READMEs](https://github.com/abhisheknaiidu/awesome-github-profile-readme)' broken down into categories and adding references to tools, articles and YouTube tutorials. \n",
    "\n",
    "No use reinventing the wheel. Go through both lists and look at the README's. When you see a style that appeals to you, check out the raw file and steal shamelessly from the best! \n",
    "\n",
    "> You can find markdown badges [here](https://github.com/Ileriayo/markdown-badges) and github readme stats [here](https://github.com/anuraghazra/github-readme-stats)."
   ],
   "cell_type": "markdown",
   "metadata": {}
  },
  {
   "source": [
    "---"
   ],
   "cell_type": "markdown",
   "metadata": {}
  },
  {
   "cell_type": "markdown",
   "metadata": {},
   "source": [
    "## Miscellaneous Issues"
   ]
  },
  {
   "cell_type": "markdown",
   "metadata": {},
   "source": [
    "These are a bunch of random, mostly minor issues I came across and the resources I used to solve them:"
   ]
  },
  {
   "cell_type": "markdown",
   "metadata": {},
   "source": [
    "- **BUILD ISSUES**: I had a bunch of build issues while creating this blog post, all because of malformed front matter. It turns out the jekyll is quite unforgiving of syntax errors with respect to the front matter. Have a look at fastpages's [Frequent Errors](https://github.com/fastai/fastpages/blob/master/_fastpages_docs/TROUBLESHOOTING.md#frequent-errors) and [Configure Title & Summary](https://github.com/fastai/fastpages#configure-title--summary) to avoid the same pitfalls."
   ]
  },
  {
   "cell_type": "markdown",
   "metadata": {},
   "source": [
    "- **INCLUDING YOUTUBE LINKS IN MARKDOWN FILES**: Jupyter notebooks have an easy way to display tweetcards:`> twitter: https://twitter.com/Twitter/status/1398341197047939073?s=20` and YouTube videos: `youtube: https://www.youtube.com/watch?v=vJiZqZRkIg8`. Markdown files have a similar way to display tweetcards: `_{_%_ https://twitter.com/Twitter/status/1398341197047939073?s=20 _%_}_` around the link to the tweet (_Note: I added underscores because the syntax detection is quite aggressive._). However, there isn't a similar method for YouTube videos.\n",
    "\n",
    "    I poked around on [stackoverflow](https://stackoverflow.com/) and the [answers to this question](https://stackoverflow.com/questions/10529859/how-to-include-video-in-jekyll-markdown-blog) provide multiple solutions for displaying YouTube videos."
   ]
  },
  {
   "cell_type": "markdown",
   "metadata": {},
   "source": [
    "- **GITIGNORING .IPYNB_CHECKPOINTS**: In order to ignore those pesky `.ipynb_checkpoints/` folders everywhere in your blog repository, add the following lines to your `.gitignore` file:\n",
    "\n",
    "    ```text\n",
    "    .ipynb_checkpoints\n",
    "    */.ipynb_checkpoints/*\n",
    "    ```\n",
    "    \n",
    "    and you should be good to go. Courtesy of [stackoverflow](https://stackoverflow.com/questions/35916658/how-to-git-ignore-ipython-notebook-checkpoints-anywhere-in-repository).\n",
    "    \n",
    "    Alternatively, you can use the python code below to delete all auto-generated temporary folders. You can place the code in a python file and run that file before pushing your code to GitHub:\n",
    "\n",
    "    ```python\n",
    "    import os\n",
    "    import shutil\n",
    "\n",
    "    local_repository_path = r\"local/repository/path\"\n",
    "\n",
    "    def clean_blog_repo(targetFolder=local_repository_path):\n",
    "        deleted_folders = []\n",
    "\n",
    "        for dirpath, dirnames, _ in os.walk(targetFolder):\n",
    "            for folder in dirnames:\n",
    "                if folder in [\"__pycache__\", \".ipynb_checkpoints\"]: # you can add more folders\n",
    "                    folderpath = os.path.join(dirpath, folder)\n",
    "                    deleted_folders.append(f\"{folder}: {folderpath}\")\n",
    "                    shutil.rmtree(folderpath)\n",
    "                    \n",
    "         if len(deleted_folders) != 0:\n",
    "            print(\"The following folders were deleted:\\n\", \"\\n\".join(deleted_folders))\n",
    "        else:\n",
    "            print(\"No folders were found!\")\n",
    "\n",
    "    clean_blog_repo()\n",
    "    ```\n"
   ]
  },
  {
   "cell_type": "markdown",
   "metadata": {},
   "source": [
    "- **SHOW HIDDEN FILES IN JUPYTER LAB**: If you make use of JupyterLab, its file explorer hides hidden files by default and there isn't an ooption in the setting to control that behaviour. To display hidden files, courtesy of [GitHub](https://github.com/jupyterlab/jupyterlab/issues/2049#issuecomment-653913853): \n",
    "    > While running the jupyter kernel in the terminal, do NOT use ~~`jupyter lab`~~, use `jupyter lab --ContentsManager.allow_hidden=True`"
   ]
  },
  {
   "cell_type": "markdown",
   "metadata": {},
   "source": [
    "- **FIX AUTOCOMPLETE IN JUPYTERLAB**: I also had an issue where the autocomplete in JupyterLab wasn't working. It turns out that the issue is due to an outdated `jedi` dependency. This is easily fixed by running `pip install jedi==0.17.2` in the terminal. Once again, courtesy of [stackoverflow](https://stackoverflow.com/questions/40536560/ipython-and-jupyter-autocomplete-not-working/65633491#65633491)."
   ]
  },
  {
   "cell_type": "markdown",
   "metadata": {},
   "source": [
    "- **MARKDOWN CHEATSHEET**: A series of comprehensive Markdown cheatsheats have been compiled by some awesome folks out there. You can check them out for reference:\n",
    "\n",
    "    - [fefong](https://github.com/fefong/markdown_readme) on GitHub. \n",
    "    - [adam-p](https://github.com/adam-p/markdown-here/wiki/Markdown-Cheatsheet) also on GitHub\n",
    "    - [Matt Cone](https://www.markdownguide.org/basic-syntax/); this being my personal best."
   ]
  },
  {
   "cell_type": "markdown",
   "metadata": {},
   "source": [
    "- **RENDERING HTML IMAGES FROM JUPYTER NOTEBOOK**: I had issues with images locally refernced images showing on the blog. I would link to an image using the usual syntax: `![](../path/to/image.png)` and the image will show up as expected in jupyter notebook. However, on the blog, nothing! \n",
    "\n",
    "    I went through this [thread](https://forums.fast.ai/t/how-to-render-html-images-from-jupyter-notebook/64229/29) on the fastai forum and its not just me. The best way to ensure that your images (or other data) render as expected on the blog is to remotely reference the image on GitHub. Thus \n",
    "\n",
    "    ~~**Local Reference**: `![](../path/to/image.png)`~~\n",
    "      \n",
    "    **Remote Reference**: `![](https://raw.githubusercontent.com/github-profile/blog-repo/default-branch/path/to/image.png)`\n",
    "\n",
    "    > **NOTE**: In my case, my default branch is `main`, yours may be `master`.\n"
   ]
  },
  {
   "cell_type": "markdown",
   "metadata": {},
   "source": [
    "## Conclusion"
   ]
  },
  {
   "cell_type": "markdown",
   "metadata": {},
   "source": [
    "This is all I have for now. Hope you found the post useful. I plan to keep updating this post until I'm done tweaking the looks of this blog.\n",
    "\n",
    "> I just want to add that I created two draft versions of this post: one in [jupyter notebook](https://outsiders17711.github.io/Outsiders17711.FastPages/blog/Setting-Up-This-Blog/) and the other in [markdown](https://outsiders17711.github.io/Outsiders17711.FastPages/drafts/Draft-Setting-Up-This-Blog/). I found the notebook version more comfortable to work with and the final output better looking than the markdown version."
   ]
  },
  {
   "cell_type": "markdown",
   "metadata": {},
   "source": [
    "---"
   ]
  },
  {
   "cell_type": "markdown",
   "metadata": {},
   "source": [
    "> Tip: **[Jump To Top](#Setting-Up-This-Blog-Using-fastpages)**"
   ]
  },
  {
   "cell_type": "markdown",
   "metadata": {
    "tags": []
   },
   "source": [
    "---"
   ]
  }
 ],
 "metadata": {
  "kernelspec": {
   "name": "python3",
   "display_name": "Python 3.8.5 64-bit ('hlu': conda)"
  },
  "language_info": {
   "codemirror_mode": {
    "name": "ipython",
    "version": 3
   },
   "file_extension": ".py",
   "mimetype": "text/x-python",
   "name": "python",
   "nbconvert_exporter": "python",
   "pygments_lexer": "ipython3",
   "version": "3.8.5"
  },
  "interpreter": {
   "hash": "64ed01536bf604a35b39c8ffb5f8754e0194885370844d2a99bdfd2c5ccd0baa"
  }
 },
 "nbformat": 4,
 "nbformat_minor": 4
}