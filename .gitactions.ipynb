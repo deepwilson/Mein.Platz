{
 "cells": [
  {
   "cell_type": "markdown",
   "metadata": {
    "tags": []
   },
   "source": [
    "# .gitactions"
   ]
  },
  {
   "cell_type": "markdown",
   "metadata": {},
   "source": [
    "This notebook contains the necessary git commands for updating this repository.\n",
    "I really don't want to type them every single time."
   ]
  },
  {
   "cell_type": "code",
   "execution_count": 1,
   "metadata": {
    "jupyter": {
     "source_hidden": true
    },
    "tags": []
   },
   "outputs": [
    {
     "output_type": "stream",
     "name": "stdout",
     "text": [
      "deleted temp folders:\n \n"
     ]
    }
   ],
   "source": [
    "import os\n",
    "import shutil\n",
    "from win32com.shell import shell, shellcon\n",
    "\n",
    "dirHluPy = r\"H:\\0ut51d3r5.17711\\Google Drive\\_hlu.Projects\\Mein.Platz\"\n",
    "\n",
    "\n",
    "def delToRecycleBin(file_folder_name):\n",
    "    if not os.path.exists(file_folder_name):\n",
    "        return True\n",
    "    res = shell.SHFileOperation(\n",
    "        (\n",
    "            0,\n",
    "            shellcon.FO_DELETE,\n",
    "            file_folder_name,\n",
    "            None,\n",
    "            shellcon.FOF_SILENT | shellcon.FOF_ALLOWUNDO | shellcon.FOF_NOCONFIRMATION,\n",
    "            None,\n",
    "            None,\n",
    "        )\n",
    "    )\n",
    "    if not res[1]:\n",
    "        os.system(\"del \" + file_folder_name)\n",
    "\n",
    "\n",
    "def delPycacheFolders(targetFolder=dirHluPy, toRecycleBin=True):\n",
    "    flaggedFolders = []\n",
    "\n",
    "    for dirpath, dirnames, _ in os.walk(targetFolder):\n",
    "        for folder in dirnames:\n",
    "            if folder in [\"__pycache__\", \"__MACOSX\", \".ipynb_checkpoints\"]:\n",
    "                folderpath = os.path.join(dirpath, folder)\n",
    "                flaggedFolders.append(f\"{folder}: {folderpath}\")\n",
    "\n",
    "                if toRecycleBin:  # move to recycle bin\n",
    "                    delToRecycleBin(folderpath)\n",
    "                else:  # delete permamnently\n",
    "                    shutil.rmtree(folderpath)\n",
    "\n",
    "    print(\"deleted temp folders:\\n\", \"\\n\".join(flaggedFolders))\n",
    "    \n",
    "delPycacheFolders()"
   ]
  },
  {
   "cell_type": "code",
   "execution_count": 2,
   "metadata": {},
   "outputs": [
    {
     "output_type": "execute_result",
     "data": {
      "text/plain": [
       "('24062021.032200',\n",
       " 'Thursday, 24 June 2021 03:22:00\\n\\t[GMT +0200 > Egypt Standard Time]')"
      ]
     },
     "metadata": {},
     "execution_count": 2
    }
   ],
   "source": [
    "from time import strftime, localtime\n",
    "timestamp_long = strftime(\"%A, %d %B %Y %H:%M:%S\\n\\t[GMT %z > %Z]\", localtime())\n",
    "timestamp_short = strftime(\"%d%m%Y.%H%M%S\",localtime())\n",
    "\n",
    "timestamp_short, timestamp_long"
   ]
  },
  {
   "cell_type": "code",
   "execution_count": 3,
   "metadata": {},
   "outputs": [
    {
     "output_type": "stream",
     "name": "stdout",
     "text": [
      "On branch main\n",
      "Your branch is up to date with 'origin/main'.\n",
      "\n",
      "Changes not staged for commit:\n",
      "  (use \"git add <file>...\" to update what will be committed)\n",
      "  (use \"git restore <file>...\" to discard changes in working directory)\n",
      "\tmodified:   _sass/base/_typography.scss\n",
      "\tmodified:   _sass/minima/colorschemes/fastpages-dracula-highlight.scss\n",
      "\tmodified:   _sass/minima/fastpages-dracula-highlight.scss\n",
      "\tmodified:   _sass/minima/syntax_highlight_base.scss\n",
      "\n",
      "no changes added to commit (use \"git add\" and/or \"git commit -a\")\n"
     ]
    }
   ],
   "source": [
    "!git status"
   ]
  },
  {
   "cell_type": "code",
   "execution_count": 4,
   "metadata": {},
   "outputs": [
    {
     "output_type": "stream",
     "name": "stderr",
     "text": [
      "warning: LF will be replaced by CRLF in _sass/base/_typography.scss.\n",
      "The file will have its original line endings in your working directory\n",
      "warning: LF will be replaced by CRLF in _sass/minima/colorschemes/fastpages-dracula-highlight.scss.\n",
      "The file will have its original line endings in your working directory\n",
      "warning: LF will be replaced by CRLF in _sass/minima/fastpages-dracula-highlight.scss.\n",
      "The file will have its original line endings in your working directory\n",
      "warning: LF will be replaced by CRLF in _sass/minima/syntax_highlight_base.scss.\n",
      "The file will have its original line endings in your working directory\n"
     ]
    }
   ],
   "source": [
    "!git add ."
   ]
  },
  {
   "cell_type": "code",
   "execution_count": 5,
   "metadata": {},
   "outputs": [
    {
     "output_type": "stream",
     "name": "stdout",
     "text": [
      "[main 9cef567] 24062021.032200: updating the blog repository...\n 4 files changed, 8 insertions(+), 11 deletions(-)\n"
     ]
    }
   ],
   "source": [
    "!git commit -m \"{timestamp_short}: updating the blog repository...\""
   ]
  },
  {
   "cell_type": "code",
   "execution_count": 6,
   "metadata": {},
   "outputs": [],
   "source": [
    "!git remote set-url origin https://github.com/Outsiders17711/Mein.Platz.git"
   ]
  },
  {
   "cell_type": "code",
   "execution_count": 7,
   "metadata": {},
   "outputs": [
    {
     "output_type": "stream",
     "name": "stdout",
     "text": [
      "origin\thttps://github.com/Outsiders17711/Mein.Platz.git (fetch)\n",
      "origin\thttps://github.com/Outsiders17711/Mein.Platz.git (push)\n"
     ]
    }
   ],
   "source": [
    "!git remote -v"
   ]
  },
  {
   "cell_type": "code",
   "execution_count": 8,
   "metadata": {},
   "outputs": [
    {
     "output_type": "stream",
     "name": "stderr",
     "text": [
      "error: cannot spawn sh: No such file or directory\nfatal: could not read Username for 'https://github.com': No such file or directory\n"
     ]
    }
   ],
   "source": [
    "!git push"
   ]
  },
  {
   "cell_type": "code",
   "execution_count": 9,
   "metadata": {},
   "outputs": [
    {
     "output_type": "stream",
     "name": "stdout",
     "text": [
      "Already up to date.\n",
      "From https://github.com/Outsiders17711/Mein.Platz\n",
      "   3b9940c..7724e51  gh-pages   -> origin/gh-pages\n"
     ]
    }
   ],
   "source": [
    "!git pull"
   ]
  },
  {
   "cell_type": "code",
   "execution_count": 10,
   "metadata": {},
   "outputs": [
    {
     "output_type": "stream",
     "name": "stdout",
     "text": [
      "On branch main\nYour branch is ahead of 'origin/main' by 1 commit.\n  (use \"git push\" to publish your local commits)\n\nnothing to commit, working tree clean\n"
     ]
    }
   ],
   "source": [
    "!git status"
   ]
  },
  {
   "cell_type": "code",
   "execution_count": 11,
   "metadata": {},
   "outputs": [],
   "source": [
    "# !git help"
   ]
  },
  {
   "cell_type": "code",
   "execution_count": 12,
   "metadata": {},
   "outputs": [],
   "source": [
    "# !git reset fa9c7ee18349371836bf28dcb4d95b282d62b7b1"
   ]
  },
  {
   "cell_type": "code",
   "execution_count": null,
   "metadata": {},
   "outputs": [],
   "source": []
  }
 ],
 "metadata": {
  "interpreter": {
   "hash": "64ed01536bf604a35b39c8ffb5f8754e0194885370844d2a99bdfd2c5ccd0baa"
  },
  "kernelspec": {
   "name": "python3",
   "display_name": "Python 3.8.5 64-bit ('hlu': conda)"
  },
  "language_info": {
   "codemirror_mode": {
    "name": "ipython",
    "version": 3
   },
   "file_extension": ".py",
   "mimetype": "text/x-python",
   "name": "python",
   "nbconvert_exporter": "python",
   "pygments_lexer": "ipython3",
   "version": "3.8.5"
  }
 },
 "nbformat": 4,
 "nbformat_minor": 4
}