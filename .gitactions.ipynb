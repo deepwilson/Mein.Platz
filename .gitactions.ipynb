{
 "cells": [
  {
   "cell_type": "markdown",
   "metadata": {
    "tags": []
   },
   "source": [
    "### .gitactions\n",
    "\n",
    "This notebook contains the necessary git commands for updating this repository.\n",
    "I really don't want to type them every single time."
   ]
  },
  {
   "cell_type": "code",
   "execution_count": 57,
   "metadata": {
    "jupyter": {
     "source_hidden": true
    },
    "tags": []
   },
   "outputs": [],
   "source": [
    "import os; import shutil\n",
    "dirHluPy = r\"H:\\0ut51d3r5.17711\\Google Drive\\_hlu.Projects\\Mein.Platz\"\n",
    "def delPycacheFolders(targetFolder=dirHluPy):\n",
    "    for dirpath, dirnames, _ in os.walk(targetFolder):\n",
    "        for folder in dirnames:\n",
    "            if folder in [\"__pycache__\", \"__MACOSX\", \".ipynb_checkpoints\"]:\n",
    "                folderpath = os.path.join(dirpath, folder)\n",
    "                shutil.rmtree(folderpath)\n",
    "delPycacheFolders()\n",
    "# ___\n",
    "from time import strftime, localtime\n",
    "timestamp_short = strftime(\"%d%m%Y.%H%M%S\",localtime())"
   ]
  },
  {
   "cell_type": "code",
   "execution_count": 48,
   "metadata": {},
   "outputs": [
    {
     "output_type": "stream",
     "name": "stdout",
     "text": [
      "___checking status___\n",
      "On branch main\n",
      "Your branch is up to date with 'origin/main'.\n",
      "\n",
      "nothing to commit, working tree clean\n",
      "___\n",
      "\n",
      "___adding changes___\n",
      "___\n",
      "\n",
      "___committing changes___\n",
      "On branch main\n",
      "Your branch is up to date with 'origin/main'.\n",
      "\n",
      "nothing to commit, working tree clean\n",
      "___\n",
      "\n"
     ]
    }
   ],
   "source": [
    "!echo ___checking status___\n",
    "!git status\n",
    "\n",
    "!echo ◙^___adding changes___\n",
    "!git add .\n",
    "\n",
    "!echo ◙^___committing changes___\n",
    "!git commit -m \"{timestamp_short}: updating the blog repository...\""
   ]
  },
  {
   "cell_type": "code",
   "execution_count": 60,
   "metadata": {},
   "outputs": [
    {
     "output_type": "stream",
     "name": "stdout",
     "text": [
      "___setting the remote repository___\n",
      "origin\thttps://github.com/Outsiders17711/Mein.Platz.git (fetch)\n",
      "origin\thttps://github.com/Outsiders17711/Mein.Platz.git (push)\n",
      "\n",
      "___pushing to remote___\n",
      "Everything up-to-date\n",
      "\n",
      "___pulling to sync history with local___\n",
      "Already up to date.\n",
      "\n",
      "___double-checking status___\n",
      "On branch main\n",
      "Your branch is up to date with 'origin/main'.\n",
      "\n",
      "Changes not staged for commit:\n",
      "  (use \"git add <file>...\" to update what will be committed)\n",
      "  (use \"git restore <file>...\" to discard changes in working directory)\n",
      "\tmodified:   .gitactions.ipynb\n",
      "\n",
      "no changes added to commit (use \"git add\" and/or \"git commit -a\")\n"
     ]
    }
   ],
   "source": [
    "!echo ___setting the remote repository___\n",
    "!git remote set-url origin https://github.com/Outsiders17711/Mein.Platz.git\n",
    "!git remote -v\n",
    "\n",
    "!echo ◙^___pushing to remote___\n",
    "!git push\n",
    "\n",
    "!echo ◙^___pulling to sync history with local___\n",
    "!git pull\n",
    "\n",
    "!echo ◙^___double-checking status___\n",
    "!git status"
   ]
  },
  {
   "cell_type": "code",
   "execution_count": 50,
   "metadata": {},
   "outputs": [],
   "source": [
    "# !git help\n",
    "# !git reset ???\n"
   ]
  }
 ],
 "metadata": {
  "interpreter": {
   "hash": "64ed01536bf604a35b39c8ffb5f8754e0194885370844d2a99bdfd2c5ccd0baa"
  },
  "kernelspec": {
   "name": "python3",
   "display_name": "Python 3.8.5 64-bit ('hlu': conda)"
  },
  "language_info": {
   "codemirror_mode": {
    "name": "ipython",
    "version": 3
   },
   "file_extension": ".py",
   "mimetype": "text/x-python",
   "name": "python",
   "nbconvert_exporter": "python",
   "pygments_lexer": "ipython3",
   "version": "3.8.5"
  }
 },
 "nbformat": 4,
 "nbformat_minor": 4
}