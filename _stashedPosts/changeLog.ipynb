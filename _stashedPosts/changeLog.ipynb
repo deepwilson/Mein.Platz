{
 "metadata": {
  "language_info": {
   "codemirror_mode": {
    "name": "ipython",
    "version": 3
   },
   "file_extension": ".py",
   "mimetype": "text/x-python",
   "name": "python",
   "nbconvert_exporter": "python",
   "pygments_lexer": "ipython3",
   "version": "3.8.5"
  },
  "orig_nbformat": 4,
  "kernelspec": {
   "name": "python3",
   "display_name": "Python 3.8.5 64-bit ('hlu': conda)"
  },
  "interpreter": {
   "hash": "64ed01536bf604a35b39c8ffb5f8754e0194885370844d2a99bdfd2c5ccd0baa"
  }
 },
 "nbformat": 4,
 "nbformat_minor": 2,
 "cells": [
  {
   "source": [
    "### editing the look of flash alerts\n",
    "\n",
    "file: _sass\\minima\\fastpages-styles.scss\n",
    "\n",
    "code:\n",
    "\n",
    "```\n",
    ".flash {\n",
    "  position: relative;\n",
    "  padding: 10px 10px;\n",
    "  border-style: solid;\n",
    "  border-width: 4px;\n",
    "  border-radius: 10px;\n",
    "}\n",
    "```"
   ],
   "cell_type": "markdown",
   "metadata": {}
  },
  {
   "source": [
    "### editing the look of inline markdown code\n",
    "\n",
    "file: _sass\\minima\\colorschemes\\fastpages-dracula-highlight.scss\n",
    "\n",
    "code:\n",
    "\n",
    "```\n",
    ".highlight {\n",
    "    // background: $dt-code-cell-background !important;\n",
    "    color: $dt-gray-light !important;\n",
    "    pre, code {\n",
    "     background: $dt-code-cell-background;\n",
    "     color: $dt-gray-light;\n",
    "     border-left: 10px solid $dt-code-cell-background;\n",
    "     border-left: 10px solid $dt-code-cell-background;\n",
    "     border-top: 10px solid $dt-code-cell-background;\n",
    "     border-bottom: 10px solid $dt-code-cell-background;\n",
    "     border-radius: 15px !important;\n",
    "    }\n",
    "```"
   ],
   "cell_type": "markdown",
   "metadata": {}
  },
  {
   "source": [
    "### editing the look of jupyter code cells\n",
    "\n",
    "file: _sass\\minima\\syntax_highlight_base.scss\n",
    "\n",
    "code: some code needed to be commented out due to style conflicts in other .scss files\n",
    "```\n",
    "// .input_area pre, .input_area div {\n",
    "//     margin-bottom: 2rem !important;\n",
    "//     margin-top: 1.5rem !important;\n",
    "//     padding-bottom: 0 !important;\n",
    "//     padding-top: 0 !important;\n",
    "//     background: $dt-code-cell-background;\n",
    "//     -webkit-font-smoothing: antialiased;\n",
    "//     text-rendering: optimizeLegibility;\n",
    "//     font-family: Menlo, Monaco, Consolas, \"Lucida Console\", Roboto, Ubuntu, monospace;\n",
    "//     border-radius: 5px;\n",
    "//     font-size: 100%;\n",
    "//     font-weight: 350; // make code have slightly more weight than text\n",
    "// }\n",
    "\n",
    ".input_area pre {\n",
    "    border-left: 10px solid $dt-code-cell-background;\n",
    "    border-left: 10px solid $dt-code-cell-background;\n",
    "    border-top: 10px solid $dt-code-cell-background;\n",
    "    border-bottom: 10px solid $dt-code-cell-background;\n",
    "    border-radius: 10px !important;\n",
    "}\n",
    "```"
   ],
   "cell_type": "markdown",
   "metadata": {}
  },
  {
   "source": [
    "### fix scrollbars not showing for overflowing notebook cells\n",
    "\n",
    "file: _sass\\base\\_typography.scss\n",
    "\n",
    "code:\n",
    "```\n",
    "  pre {\n",
    "    -webkit-overflow-scrolling: touch;\n",
    "    font-family: _font(family-fixed);\n",
    "    font-size: 0.9rem;\n",
    "    margin: 0 0 _size(element-margin) 0;\n",
    "    // this fixed the issue with scrollbars\n",
    "    overflow: auto !important;\n",
    "\n",
    "    code {\n",
    "      display: block;\n",
    "      line-height: 1.75;\n",
    "      padding: 1rem 1.5rem;\n",
    "    }\n",
    "  }\n",
    "```"
   ],
   "cell_type": "markdown",
   "metadata": {}
  },
  {
   "source": [
    "### editing the size of normal text\n",
    "\n",
    "file: _sass\\base\\_typography.scss\n",
    "\n",
    "code:\n",
    "```\n",
    "  body, input, select, textarea {\n",
    "    // controls the font type of the blog text (unformatted markdowns)\n",
    "    font-family: _font(family);\n",
    "    font-weight: _font(weight);\n",
    "    font-size: 1rem;\n",
    "    line-height: 2.375;\n",
    "  }\n",
    "```"
   ],
   "cell_type": "markdown",
   "metadata": {}
  },
  {
   "source": [
    "### fix #collapse-output not working for notebooks\n",
    "\n",
    "file: _action_files\\hide.tpl\n",
    "\n",
    "code: replace the pertinent block\n",
    "```\n",
    "{% block output_group -%}\n",
    "{%- if cell.metadata.collapse_output -%}\n",
    "    <details class=\"description\">\n",
    "      <summary class=\"btn btn-sm\" data-open=\"Hide Output\" data-close=\"Show Output\"></summary>\n",
    "        <p>{{ super() }}</p>\n",
    "    </details>\n",
    "{%- elif cell.metadata.hide_output -%}\n",
    "{%- else -%}\n",
    "    {{ super()  }}\n",
    "{%- endif -%}\n",
    "{% endblock output_group %}\n",
    "```"
   ],
   "cell_type": "markdown",
   "metadata": {}
  },
  {
   "source": [
    "### editing the look of images\n",
    "\n",
    "file: _sass\\minima\\fastpages-styles.scss\n",
    "\n",
    "code:\n",
    "```\n",
    ".post img {\n",
    "    display: block;\n",
    "    vertical-align: top;\n",
    "    margin-left: auto;\n",
    "    border: groove;\n",
    "    margin-right: auto;\n",
    "}\n",
    "```"
   ],
   "cell_type": "markdown",
   "metadata": {}
  },
  {
   "source": [
    "### editing the look of jupyter code cells\n",
    "\n",
    "file:\n",
    "\n",
    "code:\n",
    "```\n",
    "```"
   ],
   "cell_type": "markdown",
   "metadata": {}
  },
  {
   "source": [
    "### editing the look of jupyter code cells\n",
    "\n",
    "file:\n",
    "\n",
    "code:\n",
    "```\n",
    "```"
   ],
   "cell_type": "markdown",
   "metadata": {}
  },
  {
   "source": [
    "### editing the look of jupyter code cells\n",
    "\n",
    "file:\n",
    "\n",
    "code:\n",
    "```\n",
    "```"
   ],
   "cell_type": "markdown",
   "metadata": {}
  },
  {
   "cell_type": "code",
   "execution_count": null,
   "metadata": {},
   "outputs": [],
   "source": []
  }
 ]
}