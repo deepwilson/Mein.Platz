{
 "cells": [
  {
   "cell_type": "markdown",
   "metadata": {
    "tags": []
   },
   "source": [
    "# .gitactions"
   ]
  },
  {
   "cell_type": "markdown",
   "metadata": {},
   "source": [
    "This notebook contains the necessary git commands for updating this repository.\n",
    "I really don't want to type them every single time."
   ]
  },
  {
   "cell_type": "code",
   "execution_count": 1,
   "metadata": {
    "jupyter": {
     "source_hidden": true
    },
    "tags": []
   },
   "outputs": [
    {
     "name": "stdout",
     "output_type": "stream",
     "text": [
      "deleted temp folders:\n",
      " .ipynb_checkpoints: H:\\0ut51d3r5.17711\\Google Drive\\_hlu.Projects\\Mein.Platz\\.ipynb_checkpoints\n"
     ]
    }
   ],
   "source": [
    "import os\n",
    "import shutil\n",
    "from win32com.shell import shell, shellcon\n",
    "\n",
    "dirHluPy = r\"H:\\0ut51d3r5.17711\\Google Drive\\_hlu.Projects\\Mein.Platz\"\n",
    "\n",
    "\n",
    "def delToRecycleBin(file_folder_name):\n",
    "    if not os.path.exists(file_folder_name):\n",
    "        return True\n",
    "    res = shell.SHFileOperation(\n",
    "        (\n",
    "            0,\n",
    "            shellcon.FO_DELETE,\n",
    "            file_folder_name,\n",
    "            None,\n",
    "            shellcon.FOF_SILENT | shellcon.FOF_ALLOWUNDO | shellcon.FOF_NOCONFIRMATION,\n",
    "            None,\n",
    "            None,\n",
    "        )\n",
    "    )\n",
    "    if not res[1]:\n",
    "        os.system(\"del \" + file_folder_name)\n",
    "\n",
    "\n",
    "def delPycacheFolders(targetFolder=dirHluPy, toRecycleBin=True):\n",
    "    flaggedFolders = []\n",
    "\n",
    "    for dirpath, dirnames, _ in os.walk(targetFolder):\n",
    "        for folder in dirnames:\n",
    "            if folder in [\"__pycache__\", \"__MACOSX\", \".ipynb_checkpoints\"]:\n",
    "                folderpath = os.path.join(dirpath, folder)\n",
    "                flaggedFolders.append(f\"{folder}: {folderpath}\")\n",
    "\n",
    "                if toRecycleBin:  # move to recycle bin\n",
    "                    delToRecycleBin(folderpath)\n",
    "                else:  # delete permamnently\n",
    "                    shutil.rmtree(folderpath)\n",
    "\n",
    "    print(\"deleted temp folders:\\n\", \"\\n\".join(flaggedFolders))\n",
    "    \n",
    "delPycacheFolders()"
   ]
  },
  {
   "cell_type": "code",
   "execution_count": 2,
   "metadata": {},
   "outputs": [
    {
     "data": {
      "text/plain": [
       "('23062021.132748',\n",
       " 'Wednesday, 23 June 2021 13:27:48\\n\\t[GMT +0200 > Egypt Standard Time]')"
      ]
     },
     "execution_count": 2,
     "metadata": {},
     "output_type": "execute_result"
    }
   ],
   "source": [
    "from time import strftime, localtime\n",
    "timestamp_long = strftime(\"%A, %d %B %Y %H:%M:%S\\n\\t[GMT %z > %Z]\", localtime())\n",
    "timestamp_short = strftime(\"%d%m%Y.%H%M%S\",localtime())\n",
    "\n",
    "timestamp_short, timestamp_long"
   ]
  },
  {
   "cell_type": "code",
   "execution_count": 3,
   "metadata": {},
   "outputs": [
    {
     "name": "stdout",
     "output_type": "stream",
     "text": [
      "On branch main\n",
      "Your branch is up to date with 'origin/main'.\n",
      "\n",
      "Changes not staged for commit:\n",
      "  (use \"git add <file>...\" to update what will be committed)\n",
      "  (use \"git restore <file>...\" to discard changes in working directory)\n",
      "\tmodified:   .gitactions.ipynb\n",
      "\tmodified:   README.md\n",
      "\tmodified:   _config.yml\n",
      "\n",
      "no changes added to commit (use \"git add\" and/or \"git commit -a\")\n"
     ]
    }
   ],
   "source": [
    "!git status"
   ]
  },
  {
   "cell_type": "code",
   "execution_count": 4,
   "metadata": {},
   "outputs": [
    {
     "name": "stderr",
     "output_type": "stream",
     "text": [
      "warning: LF will be replaced by CRLF in .gitactions.ipynb.\n",
      "The file will have its original line endings in your working directory\n"
     ]
    }
   ],
   "source": [
    "!git add ."
   ]
  },
  {
   "cell_type": "code",
   "execution_count": 5,
   "metadata": {},
   "outputs": [
    {
     "name": "stdout",
     "output_type": "stream",
     "text": [
      "[main e6d6c05] 23062021.132748: updating the blog repository...\n",
      " 3 files changed, 55 insertions(+), 27 deletions(-)\n",
      " rewrite README.md (62%)\n"
     ]
    }
   ],
   "source": [
    "!git commit -m \"{timestamp_short}: updating the blog repository...\""
   ]
  },
  {
   "cell_type": "code",
   "execution_count": 6,
   "metadata": {},
   "outputs": [],
   "source": [
    "# !git remote set-url origin https://github.com/Outsiders17711/Mein.Platz.git"
   ]
  },
  {
   "cell_type": "code",
   "execution_count": 7,
   "metadata": {},
   "outputs": [
    {
     "name": "stdout",
     "output_type": "stream",
     "text": [
      "origin\thttps://github.com/Outsiders17711/Mein.Platz.git (fetch)\n",
      "origin\thttps://github.com/Outsiders17711/Mein.Platz.git (push)\n"
     ]
    }
   ],
   "source": [
    "!git remote -v"
   ]
  },
  {
   "cell_type": "code",
   "execution_count": 8,
   "metadata": {},
   "outputs": [
    {
     "name": "stdout",
     "output_type": "stream",
     "text": [
      "Branch 'main' set up to track remote branch 'main' from 'origin'.\n"
     ]
    },
    {
     "name": "stderr",
     "output_type": "stream",
     "text": [
      "To https://github.com/Outsiders17711/Mein.Platz.git\n",
      "   14473f6..e6d6c05  main -> main\n"
     ]
    }
   ],
   "source": [
    "!git push -u origin main"
   ]
  },
  {
   "cell_type": "code",
   "execution_count": 9,
   "metadata": {},
   "outputs": [
    {
     "name": "stdout",
     "output_type": "stream",
     "text": [
      "On branch main\n",
      "Your branch is up to date with 'origin/main'.\n",
      "\n",
      "nothing to commit, working tree clean\n"
     ]
    }
   ],
   "source": [
    "!git status"
   ]
  }
 ],
 "metadata": {
  "interpreter": {
   "hash": "64ed01536bf604a35b39c8ffb5f8754e0194885370844d2a99bdfd2c5ccd0baa"
  },
  "kernelspec": {
   "display_name": "Python 3",
   "language": "python",
   "name": "python3"
  },
  "language_info": {
   "codemirror_mode": {
    "name": "ipython",
    "version": 3
   },
   "file_extension": ".py",
   "mimetype": "text/x-python",
   "name": "python",
   "nbconvert_exporter": "python",
   "pygments_lexer": "ipython3",
   "version": "3.8.5"
  }
 },
 "nbformat": 4,
 "nbformat_minor": 4
}
