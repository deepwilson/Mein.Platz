{
 "cells": [
  {
   "cell_type": "markdown",
   "metadata": {},
   "source": [
    "# Setting Up This Blog\n",
    "> A somewhat comprehensive record of the steps I took to set up this blog; upgrades I made to the original fastpages setup; issues I faced and how I resolved them (or not); and references to resources I found useful.\n",
    "\n",
    "- toc: true\n",
    "- author: Oluwaleke Umar Yusuf\n",
    "- badges: true\n",
    "- comments: true\n",
    "- image: images/md/fastpages_diagram.png\n",
    "- hide: false\n",
    "- search_exclude: true\n",
    "- categories: [notebook, fastpages]\n",
    "- tags: [fastpages examples]"
   ]
  },
  {
   "cell_type": "markdown",
   "metadata": {},
   "source": [
    "## Setting Up This Blog Using `fastpages`"
   ]
  },
  {
   "cell_type": "markdown",
   "metadata": {},
   "source": [
    "## Background"
   ]
  },
  {
   "cell_type": "markdown",
   "metadata": {},
   "source": [
    "> Note: You can skip over this **Background** section. I went off for a while here. Jump to **[Introducing fastpages](#Introducing-fastpages)**"
   ]
  },
  {
   "cell_type": "markdown",
   "metadata": {},
   "source": [
    "Over the course of this year, as I got deeper into Machine Learning and Computer Vision, I started to come across posts and comments advising folks new to programming in general to create a blog detailing their experiences. \n",
    "\n",
    "Most posts/people summed up the benefits of creating such a blog along the lines of:\n",
    "\n",
    "- You are presently in the best position to help along another newcomer who is a few steps behind you. This is because the issues you came across and the mistakes you made are still fresh in your mind and the resources you consulted to overcome/correct those issues/mistakes are still fresh in you mind and close to hand.\n",
    "- It is generally agreed that writing about a topic helps deepen your understanding of the topic and force you to address the gaps in your knowledge.\n",
    "- You write for totally selfish reasons. You write for posterity. You write for your future self.\n",
    "\n",
    "Given the schools of thought I was exposed to while learning programming and my personal way of doing things, my code is always littered with detailed and sometimes superfluous comments. Thus, I initially assumed that all I needed to do was put all my comments for a project together, edit and format them into a coherent document, and voila!, blog post.\n",
    "\n",
    "Unfortunately, the various resources I found online for creating simple blogs were overly involved and required knowledge of html and other web-related stuff of which I knew nothing. Furthermore, I wasn't interested in going off on a tangent when my focus is `Machine Learning` and `Computer Vision`. I alos came across [GitHub Pages](https://pages.github.com/) at this point but it was more of the same.\n",
    "\n",
    "> **So, I gave up on creating a blog and stuck to writing detailed comments in my code.**\n",
    "\n",
    "A couple months after, I took [fast.ai's](https://www.fast.ai/) [Practical Deep Learning for Coders](https://course.fast.ai/) online course. At some point in Lesson 3, when [Jeremy Howard](https://twitter.com/jeremyphoward) started going on about writing and blogs, in my mind I went \"Here we go again.\" Then he introduced [fastpages](https://github.com/fastai/fastpages) and it was all I ever needed."
   ]
  },
  {
   "cell_type": "markdown",
   "metadata": {},
   "source": [
    "> youtube: https://www.youtube.com/embed/5L3Ao5KuCC4?start=3441"
   ]
  },
  {
   "cell_type": "markdown",
   "metadata": {},
   "source": [
    "> **Create a blog using jupyter notenooks and markdown files? Take my money!!!**"
   ]
  },
  {
   "cell_type": "markdown",
   "metadata": {},
   "source": [
    "## Introducing `fastpages`"
   ]
  },
  {
   "cell_type": "markdown",
   "metadata": {},
   "source": [
    "`fastpages` is an easy to use blogging platform, with support for Jupyter notebooks, Word documents, and Markdown.\n",
    "\n",
    "![](../images/md/fastpages_diagram.png)\n",
    "\n",
    "`fastpages` uses [GitHub Actions](https://github.com/features/actions) to simplify the process of creating [Jekyll blog posts](https://jekyllrb.com/) on [GitHub Pages](https://pages.github.com/) from a variety of input formats.\n",
    "\n",
    "\n",
    "See the [fastpages](https://github.com/fastai/fastpages) GitHub repository for a more detailed list of features.\n",
    "\n",
    "> Note: **[See the demo site.](https://fastpages.fast.ai/)**"
   ]
  },
  {
   "cell_type": "markdown",
   "metadata": {},
   "source": [
    "---"
   ]
  },
  {
   "cell_type": "markdown",
   "metadata": {},
   "source": [
    "## Initial Setup"
   ]
  },
  {
   "cell_type": "markdown",
   "metadata": {},
   "source": [
    "The initial setup is totally straightforeward and effortless. The [setup instructions](https://github.com/fastai/fastpages#setup-instructions) are detailed and there is even a [walkthrough on YouTube](https://youtu.be/L0boq3zqazI) if that wasn't enough.\n",
    "\n",
    "> It wasn't enough for me. There was part of the setup where I needed to merge a pull request but I somehow didn't see that line in the instructions."
   ]
  },
  {
   "cell_type": "markdown",
   "metadata": {},
   "source": [
    "> youtube: https://www.youtube.com/embed/L0boq3zqazI"
   ]
  },
  {
   "cell_type": "markdown",
   "metadata": {},
   "source": [
    "With the setup instructions and YouTube walkthrough, you can't go wrong. If you, go through either of them again, slowly. You most definitely missed something.\n",
    "\n",
    "If at any point you come across build issues, refer to the fastpages [Troubleshooting Guide](https://github.com/fastai/fastpages/blob/master/_fastpages_docs/TROUBLESHOOTING.md)."
   ]
  },
  {
   "cell_type": "markdown",
   "metadata": {},
   "source": [
    "---"
   ]
  },
  {
   "cell_type": "markdown",
   "metadata": {},
   "source": [
    "## Customizing Your Blog"
   ]
  },
  {
   "cell_type": "markdown",
   "metadata": {},
   "source": [
    "Once you're done with the intial setup, you'll get a generic blog that contains a few placeholders from `fastbook`. There are a few simple customizations you can make to put your personal stamp on your blog. \n",
    "\n",
    "These customizations can be implemented across `four files` and `one folder` in the  newly forked blog repository. I will list the files and the personalizations that can be done in each."
   ]
  },
  {
   "cell_type": "markdown",
   "metadata": {},
   "source": [
    "---\n",
    "#### `index.html`\n",
    "\n",
    "This file is responsible for the the content of the blog's homepage -- between the `top bar` and the `Posts` section. The picture below shows the code and the result in the homepage.\n",
    "\n",
    "![](../images/md/index_html.png)\n",
    "\n",
    "Two sets of changes can be made in this file:\n",
    "\n",
    "1. *Line 4*: The blog logo by sepecified by a file placed in the `images` folder of the base directory. This is the image preview automatically shown with your blog URL on social media sites. You can either:\n",
    "\n",
    "    - replace the fastpages logo with one of your own choosing, leaving `Line 4` as it is; or\n",
    "    - add you own file to the `images` folder and edit the filename in `Line 4`.\n",
    "    \n",
    "1. *Lines 6-14*: Everything here can be removed and replaced with content of your choosing. From my experience, the content can be in html format or markdown format or a mix of both formats."
   ]
  },
  {
   "cell_type": "markdown",
   "metadata": {},
   "source": [
    "> Important: The image for the blog logo MUST be in the **images** folder (or subfolders) for your blog to render correctly."
   ]
  },
  {
   "cell_type": "markdown",
   "metadata": {},
   "source": [
    "---\n",
    "#### `README.md`\n",
    "\n",
    "This file is responsible for the content of the blog's github repository page -- after the folders and files have been listed.\n",
    "\n",
    "![](../images/md/README_md.png)\n",
    "\n",
    "Two sets of changes can be made to this file:\n",
    "\n",
    "1. *Line 6*: You can totally remove that line, thus removing the `View Demo Site` badge. On the other hand, you might want to change it to one of your choosing and make it point to another link. \n",
    "\n",
    "    This is quite simple. The [shields.io](https://shields.io/) developer site contains example code on how to create your own custom badges. If you want to use a shield logo other than the ones available, you need to convert your .png to base64 code, you can't just specify a path to the .png file. [b64.io](https://b64.io/) is a free resource for converting images to base64 format. The logo is then specified in the badge code using the snippet below.\n",
    "    \n",
    "    ```\n",
    "    ?logo=data:image/png;base64,…\n",
    "    ```\n",
    "    \n",
    "    You can consult the answers provided to this [stackoverflow question](https://stackoverflow.com/questions/38985050/how-do-i-use-the-logo-option-in-shields-io-badges) if you have any difficulty creating you custom badge. You can create any number of badges this way, all with different attributes.\n",
    "    \n",
    "1. *Lines 7-554*: Everything here can be removed and replaced with content of your choosing. The content has to be in markdown format."
   ]
  },
  {
   "cell_type": "markdown",
   "metadata": {},
   "source": [
    "---\n",
    "#### `_config.yml`\n",
    "\n",
    "This is the main configuration file for the blog. This file should be edited carefully as any mistakes will cause errors when GutHub tries to build your blog. The main fastpages [README.md](https://github.com/fastai/fastpages#customizing-blog-posts-with-front-matter) provides detailed information on what parts of the blog the parameters in this file control.\n",
    "\n",
    "However, since we're talking about simple customizations, here are some:\n",
    "\n",
    "1. *Line 9*: This controls the title of the blog found at the top of the homepage. It is freely customizable.\n",
    "1. *Line 10*: This controls the blog description at the very bottom of the homepage. It is freely customizable.\n",
    "1. *Lines 39-43*: Here you can add links you your social media accounts and other professional accounts. This [link](https://github.com/jekyll/minima#social-networks) provides the list if supported social networks and their keys.\n",
    "1. *Line 52*: This controls the display of image previews on the home page, for posts that have them. It is set to `false` by default. You should try it out, it's a good look."
   ]
  },
  {
   "cell_type": "markdown",
   "metadata": {},
   "source": [
    "---\n",
    "#### `images`\n",
    "\n",
    "This folder contains images necessary for customizing the look of the blog's URL. There are a couple of changes you can make here.\n",
    "\n",
    "- `logo.png`: As stated earlier, this specfies the image preview automatically shown with your URL on social media sites. This is freely customizable.\n",
    "- `favicon.ico`: This controls the page icon shown on the browser tab when the site is opened in browser. There are lots of free resources for [downloading .ico files](https://icon-icons.com/) or [converting your .png to .ico](https://convertico.com/)."
   ]
  },
  {
   "cell_type": "markdown",
   "metadata": {},
   "source": [
    "> Important: From my experience, the file name of the page icon MUST be **favicon.ico**."
   ]
  },
  {
   "cell_type": "markdown",
   "metadata": {},
   "source": [
    "---\n",
    "#### `pages/about.md`\n",
    "\n",
    "This file is responsible for the the content of the blog's `About Me` page -- found on right-side of the `top bar`. The picture below shows the code and the result on the blog.\n",
    "\n",
    "![](../images/md/_pages_about_md.png)\n",
    "\n",
    "Everything from *Lines 7-12* can be removed and replaced with content of your choosing. The content has to be in markdown format."
   ]
  },
  {
   "cell_type": "code",
   "execution_count": null,
   "metadata": {},
   "outputs": [],
   "source": [
    "> Note: That's about it for simple customizations' you can make your blog at first go."
   ]
  },
  {
   "cell_type": "markdown",
   "metadata": {},
   "source": [
    "---"
   ]
  },
  {
   "cell_type": "markdown",
   "metadata": {},
   "source": [
    "## Further Customizations"
   ]
  },
  {
   "cell_type": "markdown",
   "metadata": {},
   "source": [
    "Here are some other advanced customizations you can carry out. They are advanced in the sense that you need to go through the documentation of the various resources used by fastpages in order to figure out to to modify them. \n",
    "\n",
    "At this point, you'll be diverging greatly from the default `fastpages` setup for your blog, thus you'll need to modify/add multiple files to successfully make a modification."
   ]
  },
  {
   "cell_type": "markdown",
   "metadata": {},
   "source": [
    "---"
   ]
  },
  {
   "cell_type": "markdown",
   "metadata": {},
   "source": [
    "## Miscellaneous Issues"
   ]
  },
  {
   "cell_type": "markdown",
   "metadata": {},
   "source": [
    "These are a bunch of random, mostly minor issues I came across and the resources I used to solve them:\n",
    "\n",
    "---"
   ]
  },
  {
   "cell_type": "markdown",
   "metadata": {},
   "source": [
    "- **BUILD ISSUES**: I had a bunch of build issues while creating this blog post, all because of malformed front matter. It turns out the jekyll is quite unforgiving of syntax errors with respect to the front matter. Have a look at fastpages's [Frequent Errors](https://github.com/fastai/fastpages/blob/master/_fastpages_docs/TROUBLESHOOTING.md#frequent-errors) and [Configure Title & Summary](https://github.com/fastai/fastpages#configure-title--summary) to avoid the same pitfalls."
   ]
  },
  {
   "cell_type": "markdown",
   "metadata": {},
   "source": [
    "- **INCLUDING YOUTUBE LINKS IN MARKDOWN FILES**: Jupyter notebooks have an easy way to display tweetcards:`> twitter: https://twitter.com/Twitter/status/1398341197047939073?s=20` and YouTube videos: `youtube: https://www.youtube.com/watch?v=vJiZqZRkIg8`. Markdown files have a similar way to display tweetcards: `_{_%_ https://twitter.com/Twitter/status/1398341197047939073?s=20 _%_}_` around the link to the tweet (_Note: I added underscores because the syntax detection is quite aggressive._). However, there isn't a similar method for YouTube videos.\n",
    "\n",
    "    I poked around on [stackoverflow](https://stackoverflow.com/) and the [answers to this question](https://stackoverflow.com/questions/10529859/how-to-include-video-in-jekyll-markdown-blog) provide multiple solutions for displaying YouTube videos."
   ]
  },
  {
   "cell_type": "markdown",
   "metadata": {},
   "source": [
    "- **GITIGNORING .IPYNB_CHECKPOINTS**: In order to ignore those pesky `.ipynb_checkpoints/` folders everywhere in your blog repository, add the following lines to your `.gitignore` file:\n",
    "\n",
    "    ```\n",
    "    .ipynb_checkpoints\n",
    "    */.ipynb_checkpoints/*\n",
    "    ```\n",
    "    \n",
    "    and you should be good to go. Courtesy of [stackoverflow](https://stackoverflow.com/questions/35916658/how-to-git-ignore-ipython-notebook-checkpoints-anywhere-in-repository).\n",
    "    \n",
    "    Alternatively, you can use the python code below to delete all auto-generated temporary folders. You can place the code in a python file and run that file before pushing your code to GitHub:"
   ]
  },
  {
   "cell_type": "code",
   "execution_count": null,
   "metadata": {},
   "outputs": [],
   "source": [
    "#collapse-hide\n",
    "import os\n",
    "import shutil\n",
    "from win32com.shell import shell, shellcon\n",
    "\n",
    "local_repository_path = r\"local/repository/path\"\n",
    "\n",
    "def delPycacheFolders(targetFolder=local_repository_path):\n",
    "    flaggedFolders = []\n",
    "\n",
    "    for dirpath, dirnames, _ in os.walk(targetFolder):\n",
    "        for folder in dirnames:\n",
    "            if folder in [\"__pycache__\", \"__MACOSX\", \".ipynb_checkpoints\"]:\n",
    "                folderpath = os.path.join(dirpath, folder)\n",
    "                flaggedFolders.append(f\"{folder}: {folderpath}\")\n",
    "                shutil.rmtree(folderpath)\n",
    "\n",
    "    print(\"deleted temp folders:\\n\", \"\\n\".join(flaggedFolders))\n",
    "\n",
    "delPycacheFolders()"
   ]
  },
  {
   "cell_type": "markdown",
   "metadata": {},
   "source": [
    "- **SHOW HIDDEN FILES IN JUPYTER LAB**: If you make use of JupyterLab, its file explorer hides hidden files by default and there isn't an ooption in the setting to control that behaviour. To display hidden files, courtesy of [GitHub](https://github.com/jupyterlab/jupyterlab/issues/2049#issuecomment-653913853): \n",
    "    > While running the jupyter kernel in the terminal, do NOT use ~~`jupyter lab`~~, use `jupyter lab --ContentsManager.allow_hidden=True`"
   ]
  },
  {
   "cell_type": "markdown",
   "metadata": {},
   "source": [
    "- **FIX AUTOCOMPLETE IN JUPYTERLAB**: I also had an issue where the autocomplete in JupyterLab wasn't working. It turns out that the issue is due to an outdated `jedi` dependency. This is easily fixed by running `pip install jedi==0.17.2` in the terminal. Once again, courtesy of [stackoverflow](https://stackoverflow.com/questions/40536560/ipython-and-jupyter-autocomplete-not-working/65633491#65633491)."
   ]
  },
  {
   "cell_type": "markdown",
   "metadata": {},
   "source": [
    "- **MARKDOWN CHEATSHEET**: A series of comprehensive Markdown cheatsheats have been compiled by some awesome folks out there. You can check them out for reference:\n",
    "\n",
    "    - [fefong](https://github.com/fefong/markdown_readme) on GitHub. \n",
    "    - [adam-p](https://github.com/adam-p/markdown-here/wiki/Markdown-Cheatsheet) also on GitHub\n",
    "    - [Matt Cone](https://www.markdownguide.org/basic-syntax/); this being my personal best."
   ]
  },
  {
   "cell_type": "markdown",
   "metadata": {},
   "source": [
    "- **CREATING PERMALINKS**: This [Jekyll documentation](https://jekyllrb.com/docs/permalinks/) provides information on how to set up permalinks for you blog. However, I found that this [post](https://docs.w3cub.com/jekyll/permalinks/) did a better job of explaining how Jekyll permalinks work and how to customize them to fit your blog. [This](https://learn.cloudcannon.com/jekyll/permalinks/) is also useful."
   ]
  },
  {
   "source": [
    "- **SWITCHING TO DARK MODE**: [Prudhvi Rampey](https://prudhvirampey.com/blog/colours/jekyll/css/fastpages/2020/10/30/hello-dark-mode.html) provides a simple guide to being the darkmode experience to `fastpages`. All you have to do is add one file (available [here](https://gist.github.com/prampey/aac8f8436827ea09f53a67873142706c)) to the `/_sass/minima/` folder and  add this import line in `custom-styles.scss` in the same folder.\n"
   ],
   "cell_type": "markdown",
   "metadata": {}
  },
  {
   "source": [
    "#collapse-hide\n",
    "```scss\n",
    "/*-----------------------------------*/\n",
    "/*----- ADD YOUR STYLES BELOW -------*/\n",
    "\n",
    "@import \"minima/dark-mode\";\n",
    "```"
   ],
   "cell_type": "markdown",
   "metadata": {}
  },
  {
   "cell_type": "markdown",
   "metadata": {},
   "source": [
    "- **FURTHER CUSTOMIZING THE LOOK OF FASTPAGES**: [Prashanth Rao's article](https://prrao87.github.io/blog/blogging-for-data-scientists/#some-faqs-on-using-fastpages) which talks generally about the advantages of using ` fastpages` also contains a few tips on visual customization in the appendix section."
   ]
  },
  {
   "cell_type": "markdown",
   "metadata": {},
   "source": [
    "## Further Links"
   ]
  },
  {
   "cell_type": "markdown",
   "metadata": {},
   "source": [
    "Here are some useful links the I coudn't add in the main post:\n",
    "\n",
    "- null"
   ]
  },
  {
   "cell_type": "markdown",
   "metadata": {},
   "source": [
    "## Conclusion"
   ]
  },
  {
   "cell_type": "markdown",
   "metadata": {},
   "source": [
    "This is all I have for now. Hope you found the post useful. I plan to keep updating this post until I'm done tweaking the looks of this blog.\n",
    "\n",
    "> I just want to add that I created two draft versions of this post: one in [jupyter notebook](https://outsiders17711.github.io/Outsiders17711.FastPages/blog/Setting-Up-This-Blog/) and the other in [markdown](https://outsiders17711.github.io/Outsiders17711.FastPages/drafts/Draft-Setting-Up-This-Blog/). I found the notebook version more comfortable to work with and the final output better looking than the markdown version."
   ]
  },
  {
   "cell_type": "markdown",
   "metadata": {},
   "source": [
    "---"
   ]
  },
  {
   "cell_type": "markdown",
   "metadata": {},
   "source": [
    "> Tip: **[Jump To Top](#Setting-Up-This-Blog-Using-fastpages)**"
   ]
  },
  {
   "cell_type": "markdown",
   "metadata": {
    "tags": []
   },
   "source": [
    "---"
   ]
  }
 ],
 "metadata": {
  "kernelspec": {
   "display_name": "Python 3",
   "language": "python",
   "name": "python3"
  },
  "language_info": {
   "codemirror_mode": {
    "name": "ipython",
    "version": 3
   },
   "file_extension": ".py",
   "mimetype": "text/x-python",
   "name": "python",
   "nbconvert_exporter": "python",
   "pygments_lexer": "ipython3",
   "version": "3.8.5"
  }
 },
 "nbformat": 4,
 "nbformat_minor": 4
}