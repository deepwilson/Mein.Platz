{
 "cells": [
  {
   "cell_type": "markdown",
   "metadata": {
    "tags": []
   },
   "source": [
    "### .gitactions\n",
    "\n",
    "This notebook contains the necessary git commands for updating this repository.\n",
    "I really don't want to type them every single time.\n",
    "\n",
    "<https://superuser.com/a/1368018>"
   ]
  },
  {
   "cell_type": "code",
   "execution_count": null,
   "metadata": {
    "jupyter": {
     "source_hidden": true
    },
    "tags": []
   },
   "outputs": [],
   "source": [
    "%run _stashedPosts/cleanRepository.py\n",
    "%run _stashedPosts/syncBlogs.py\n",
    "# ___\n",
    "from time import strftime, localtime\n",
    "timestamp_short = strftime(\"%d%m%Y.%H%M%S\",localtime())\n",
    "commit_message = f\"{timestamp_short}: blog repository update...\"\n",
    "commit_description = input(\"commit_description: \").lower()"
   ]
  },
  {
   "cell_type": "code",
   "execution_count": null,
   "metadata": {},
   "outputs": [],
   "source": [
    "!echo ___checking status___\n",
    "!git status\n",
    "\n",
    "!echo ◙^___adding changes___\n",
    "!git add .\n",
    "\n",
    "!echo ◙^___committing changes___\n",
    "!git commit -m \"{commit_message}\" -m \"{commit_description}\""
   ]
  },
  {
   "cell_type": "code",
   "execution_count": null,
   "metadata": {},
   "outputs": [],
   "source": [
    "!echo ___setting the remote repository___\n",
    "!git remote set-url origin https://github.com/Outsiders17711/Mein.Platz.git\n",
    "!git remote -v\n",
    "\n",
    "!echo ◙^___pushing to remote___\n",
    "!git push\n",
    "\n",
    "!echo ◙^___pulling to sync history with local___\n",
    "!git pull\n",
    "\n",
    "!echo ◙^___double-checking status___\n",
    "!git status"
   ]
  },
  {
   "cell_type": "code",
   "execution_count": null,
   "metadata": {},
   "outputs": [],
   "source": [
    "# !_stashedPosts\\gitCode.cmd"
   ]
  },
  {
   "cell_type": "code",
   "execution_count": null,
   "metadata": {},
   "outputs": [],
   "source": [
    "# !git help\n",
    "# !git reset ???\n"
   ]
  }
 ],
 "metadata": {
  "interpreter": {
   "hash": "64ed01536bf604a35b39c8ffb5f8754e0194885370844d2a99bdfd2c5ccd0baa"
  },
  "kernelspec": {
   "name": "python3",
   "display_name": "Python 3.8.5 64-bit ('hlu': conda)"
  },
  "language_info": {
   "codemirror_mode": {
    "name": "ipython",
    "version": 3
   },
   "file_extension": ".py",
   "mimetype": "text/x-python",
   "name": "python",
   "nbconvert_exporter": "python",
   "pygments_lexer": "ipython3",
   "version": "3.8.5"
  }
 },
 "nbformat": 4,
 "nbformat_minor": 4
}