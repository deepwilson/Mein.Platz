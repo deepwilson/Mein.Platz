{
 "metadata": {
  "language_info": {
   "codemirror_mode": {
    "name": "ipython",
    "version": 3
   },
   "file_extension": ".py",
   "mimetype": "text/x-python",
   "name": "python",
   "nbconvert_exporter": "python",
   "pygments_lexer": "ipython3",
   "version": "3.8.5"
  },
  "orig_nbformat": 4,
  "kernelspec": {
   "name": "python3",
   "display_name": "Python 3.8.5 64-bit ('hlu': conda)"
  },
  "interpreter": {
   "hash": "64ed01536bf604a35b39c8ffb5f8754e0194885370844d2a99bdfd2c5ccd0baa"
  }
 },
 "nbformat": 4,
 "nbformat_minor": 2,
 "cells": [
  {
   "source": [
    "## #collapse-output not working:\n",
    "replacing hide.tpl in _action_files with the original from fastpages"
   ],
   "cell_type": "markdown",
   "metadata": {}
  },
  {
   "source": [
    "## unable to hide posts:\n",
    "\n",
    "adding the if statement in the code block below form the original _layouts/home.html file\n",
    "\n",
    "```html\n",
    "<!--  -->\n",
    "<!-- Hide posts if front matter flag hide:true -->\n",
    "{% assign posts = ''|split:'' %}\n",
    "{% for post in rawposts %}\n",
    "  {% if post.hide != true %}\n",
    "    {% assign posts = posts|push:post%}\n",
    "  {% endif %}\n",
    "{% endfor %}\n",
    "<!--  -->\n",
    "```\n",
    "---\n",
    "\n",
    "im not sure how to implement the code below for pinning posts; search the diff file for context\n",
    "\n",
    "```\n",
    "<!-- Sort posts by rank, then date -->\n",
    "{% assign grouped_posts = posts | group_by: \"sticky_rank\" | sort: \"name\", \"last\" %}\n",
    "{% assign sticky_posts = ''|split:'' %}\n",
    "{% assign non_sticky_posts = '' | split:'' %}\n",
    "```\n"
   ],
   "cell_type": "markdown",
   "metadata": {}
  },
  {
   "cell_type": "code",
   "execution_count": null,
   "metadata": {},
   "outputs": [],
   "source": []
  }
 ]
}